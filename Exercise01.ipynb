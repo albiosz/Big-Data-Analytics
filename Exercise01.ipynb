{
 "cells": [
  {
   "cell_type": "markdown",
   "metadata": {},
   "source": [
    "# Sheet 1: Finding Similar Items\n",
    "\n",
    "This Jupyter Notebook requires `numpy` and `pandas`, please install them using `conda` or `pip`.\n",
    "\n",
    "### Submission\n",
    "\n",
    "Please submit your group solution via LernraumPlus. You are free to hand solutions in as (scanned) PDFs or Jupyter Notebooks.\n",
    "\n",
    "<style>\n",
    "    @media (min-width: 1200px)\n",
    ".container {\n",
    "    width: 100%;\n",
    "}\n",
    "    </style>"
   ]
  },
  {
   "cell_type": "code",
   "execution_count": 2,
   "metadata": {},
   "outputs": [],
   "source": [
    "# make sure this cell executes without errors\n",
    "# imports for numeric processing\n",
    "import pandas as pd\n",
    "import numpy as np"
   ]
  },
  {
   "cell_type": "markdown",
   "metadata": {},
   "source": [
    "# Exercise 1 - Shingling"
   ]
  },
  {
   "cell_type": "code",
   "execution_count": 3,
   "metadata": {},
   "outputs": [
    {
     "output_type": "execute_result",
     "data": {
      "text/plain": [
       "(['A', 'B', 'R', 'A', 'C', 'A', 'D', 'A', 'B', 'R', 'A'],\n",
       " ['B', 'R', 'I', 'C', 'A', 'B', 'R', 'A', 'C'])"
      ]
     },
     "metadata": {},
     "execution_count": 3
    }
   ],
   "source": [
    "doc1 = [token for token in \"ABRACADABRA\"]\n",
    "doc2 = [token for token in \"BRICABRAC\"]\n",
    "\n",
    "doc1, doc2"
   ]
  },
  {
   "cell_type": "code",
   "execution_count": 229,
   "metadata": {},
   "outputs": [
    {
     "output_type": "stream",
     "name": "stdout",
     "text": [
      "1.  ['RA' 'DA' 'BR' 'AD' 'AB' 'CA' 'AC']\n2.  ['RA' 'BR' 'RI' 'IC' 'AB' 'CA' 'AC']\n3.  ['AB' 'AC' 'AD' 'BR' 'CA' 'DA' 'IC' 'RA' 'RI']\n4.  0.5555555555555556\n"
     ]
    }
   ],
   "source": [
    "# Note: Remove pass-term when writing your own function.\n",
    "def get_shingles(from_list):\n",
    "    # Calculate shingles.\n",
    "    shingles = set()\n",
    "    for num in range(len(from_list) - 1):\n",
    "        shingles.add(from_list[num] + from_list[num+1])\n",
    "\n",
    "    return list(shingles)\n",
    "    \n",
    "# 1. How many 2-shingles does ABRACADABRA have?\n",
    "doc1_shingles = np.array(get_shingles(doc1))\n",
    "\n",
    "print(\"1. \", doc1_shingles)\n",
    "\n",
    "# 2. How many 2-shingles does BRICABRAC have?\n",
    "doc2_shingles = np.array(get_shingles(doc2))\n",
    "\n",
    "print(\"2. \", doc2_shingles)\n",
    "\n",
    "# 3. How many 2-shingles do they have in common?\n",
    "in_common = np.unique(np.concatenate((doc1_shingles, doc2_shingles)))\n",
    "# in_common = doc1_shingles[np.in1d(doc1_shingles, doc2_shingles)]\n",
    "\n",
    "print(\"3. \", in_common)\n",
    "\n",
    "# 4. What is the Jaccard similarity between the two documents?\n",
    "def jaccard(doc1, doc2):\n",
    "    #Calculate Jaccard similarity.\n",
    "    \n",
    "    doc1_shingles = np.array(get_shingles(doc1))\n",
    "    doc2_shingles = np.array(get_shingles(doc2))\n",
    "\n",
    "    in_common = doc1_shingles[np.in1d(doc1_shingles, doc2_shingles)]\n",
    "\n",
    "    union = np.unique(np.concatenate((doc1_shingles, doc2_shingles)))\n",
    "\n",
    "    return len(in_common) / len(union)\n",
    "\n",
    "print(\"4. \", jaccard(doc1, doc2))"
   ]
  },
  {
   "cell_type": "markdown",
   "metadata": {},
   "source": [
    "# Exercise 2 - Minhashing"
   ]
  },
  {
   "cell_type": "code",
   "execution_count": 133,
   "metadata": {},
   "outputs": [
    {
     "output_type": "execute_result",
     "data": {
      "text/plain": [
       "(   C1  C2  C3  C4\n",
       " 0   0   1   1   0\n",
       " 1   1   0   1   1\n",
       " 2   0   1   0   1\n",
       " 3   0   0   1   0\n",
       " 4   1   0   1   0\n",
       " 5   0   1   0   0, array([4, 5, 0, 2, 3, 1]), array([3, 1, 0, 5, 2, 4]))"
      ]
     },
     "metadata": {},
     "execution_count": 133
    }
   ],
   "source": [
    "# the above matrix as a pandas DataFrame\n",
    "matrix1 = pd.DataFrame([[0, 1, 1, 0],\n",
    "                        [1, 0, 1, 1],\n",
    "                        [0, 1, 0, 1],\n",
    "                        [0, 0, 1, 0],\n",
    "                        [1, 0, 1, 0],\n",
    "                        [0, 1, 0, 0] ], columns=[\"C1\", \"C2\", \"C3\", \"C4\"])\n",
    "\n",
    "# permutation vectors as numpy arrays\n",
    "permutation1 = np.array([4, 5, 0, 2, 3, 1])\n",
    "permutation2 = np.array([3, 1, 0, 5, 2, 4])\n",
    "\n",
    "matrix1, permutation1, permutation2"
   ]
  },
  {
   "cell_type": "code",
   "execution_count": 225,
   "metadata": {},
   "outputs": [],
   "source": [
    "def minhash(matrix, permutation, silent=True):\n",
    "    \n",
    "    mat = matrix.copy()\n",
    "\n",
    "    # reorder the rows of the given matrix using the row permutation vector\n",
    "    # print(mat)\n",
    "    mat = mat.reindex(permutation)\n",
    "    # print(mat)\n",
    "\n",
    "    # reset index to restore an ascending 0 > |rows|-1 indexing\n",
    "    # TODO - UNCOMMENT LINE BELOW\n",
    "    mat = mat.sort_index(axis=0, ascending=True)\n",
    "    # print(mat)\n",
    "\n",
    "    # find the first position of the value 1 in each column (row index)\n",
    "    # if no 1 exists in the column, we default to NaN (not a number)\n",
    "    min_hash = np.empty(mat.shape[1])\n",
    "    min_hash[:] = np.NaN\n",
    "    for column in range(mat.shape[1]):\n",
    "        for row in range(mat.shape[0]):\n",
    "            if mat.iloc[row, column] == 1:\n",
    "\n",
    "                # TODO - REMOVE ONE FROM THE TWO ASSIGNMENTS BELOW  \n",
    "                # min_hash[column] = row\n",
    "                # print(type(mat.iloc[[row], [column]].index)))\n",
    "                min_hash[column] = mat.iloc[[row], [column]].index.tolist()[0]\n",
    "                break\n",
    "    \n",
    "\n",
    "    # return the minhash vector\n",
    "    return min_hash"
   ]
  },
  {
   "cell_type": "code",
   "execution_count": 226,
   "metadata": {},
   "outputs": [
    {
     "output_type": "stream",
     "name": "stdout",
     "text": [
      "Permutation 1\nPermutation 1 [4 5 0 2 3 1] minhash [1. 0. 0. 1.]\n"
     ]
    }
   ],
   "source": [
    "print(\"Permutation 1\")\n",
    "print(\"Permutation 1\", permutation1, \"minhash\", minhash(matrix1, permutation1))"
   ]
  },
  {
   "cell_type": "code",
   "execution_count": 61,
   "metadata": {},
   "outputs": [
    {
     "output_type": "stream",
     "name": "stdout",
     "text": [
      "----------------------------------------\nPermutation 2\nC1    1\nC2    0\nC3    0\nC4    1\ndtype: int64\nPermutation 2 [3 1 0 5 2 4] minhash    C1  C2  C3  C4\n0   0   1   1   0\n1   1   0   1   1\n2   0   1   0   1\n3   0   0   1   0\n4   1   0   1   0\n5   0   1   0   0\n"
     ]
    }
   ],
   "source": [
    "print(\"-\" * 40 + \"\\nPermutation 2\")\n",
    "print(\"Permutation 2\", permutation2, \"minhash\", minhash(matrix1, permutation2))"
   ]
  },
  {
   "cell_type": "markdown",
   "metadata": {},
   "source": [
    "## Exercise 3"
   ]
  },
  {
   "cell_type": "code",
   "execution_count": 37,
   "metadata": {},
   "outputs": [
    {
     "output_type": "execute_result",
     "data": {
      "text/plain": [
       "   S1  S2  S3  S4\n",
       "0   0   1   0   1\n",
       "1   0   0   0   1\n",
       "2   1   1   0   0\n",
       "3   0   0   1   0\n",
       "4   0   1   1   0\n",
       "5   1   0   0   0\n",
       "6   1   0   1   0"
      ],
      "text/html": "<div>\n<style scoped>\n    .dataframe tbody tr th:only-of-type {\n        vertical-align: middle;\n    }\n\n    .dataframe tbody tr th {\n        vertical-align: top;\n    }\n\n    .dataframe thead th {\n        text-align: right;\n    }\n</style>\n<table border=\"1\" class=\"dataframe\">\n  <thead>\n    <tr style=\"text-align: right;\">\n      <th></th>\n      <th>S1</th>\n      <th>S2</th>\n      <th>S3</th>\n      <th>S4</th>\n    </tr>\n  </thead>\n  <tbody>\n    <tr>\n      <td>0</td>\n      <td>0</td>\n      <td>1</td>\n      <td>0</td>\n      <td>1</td>\n    </tr>\n    <tr>\n      <td>1</td>\n      <td>0</td>\n      <td>0</td>\n      <td>0</td>\n      <td>1</td>\n    </tr>\n    <tr>\n      <td>2</td>\n      <td>1</td>\n      <td>1</td>\n      <td>0</td>\n      <td>0</td>\n    </tr>\n    <tr>\n      <td>3</td>\n      <td>0</td>\n      <td>0</td>\n      <td>1</td>\n      <td>0</td>\n    </tr>\n    <tr>\n      <td>4</td>\n      <td>0</td>\n      <td>1</td>\n      <td>1</td>\n      <td>0</td>\n    </tr>\n    <tr>\n      <td>5</td>\n      <td>1</td>\n      <td>0</td>\n      <td>0</td>\n      <td>0</td>\n    </tr>\n    <tr>\n      <td>6</td>\n      <td>1</td>\n      <td>0</td>\n      <td>1</td>\n      <td>0</td>\n    </tr>\n  </tbody>\n</table>\n</div>"
     },
     "metadata": {},
     "execution_count": 37
    }
   ],
   "source": [
    "# the above matrix as a pandas DataFrame\n",
    "matrix2 = pd.DataFrame([[0, 1, 0, 1],\n",
    "    [0, 0, 0, 1],\n",
    "    [1, 1, 0, 0],\n",
    "    [0, 0, 1, 0],\n",
    "    [0, 1, 1, 0],\n",
    "    [1, 0, 0, 0],\n",
    "    [1, 0, 1, 0]], columns=[\"S1\", \"S2\", \"S3\", \"S4\"])\n",
    "matrix2"
   ]
  },
  {
   "cell_type": "code",
   "execution_count": 4,
   "metadata": {},
   "outputs": [],
   "source": [
    "# hash function definitions\n",
    "# note that h1 = lambda x: 2.0 * x + 1.0 % 7.0 would not work in Python because of operator precedence\n",
    "h1 = lambda x: (2.0 * x + 1.0) % 7.0\n",
    "h2 = lambda x: (3.0 * x + 2.0) % 7.0\n",
    "h3 = lambda x: (5.0 * x + 2.0) % 7.0\n",
    "\n",
    "hash_functions = {'h1': h1, 'h2': h2, 'h3': h3}"
   ]
  },
  {
   "cell_type": "code",
   "execution_count": 71,
   "metadata": {},
   "outputs": [
    {
     "output_type": "stream",
     "name": "stdout",
     "text": [
      "--- ORIGINAL MATRIX ---\n\n   S1  S2  S3  S4\n0   0   1   0   1\n1   0   0   0   1\n2   1   1   0   0\n3   0   0   1   0\n4   0   1   1   0\n5   1   0   0   0\n6   1   0   1   0\n\n--- HASHED MATRICIES ---\n\n   S1  S2  S3  S4\n1   0   0   0   1\n3   0   0   1   0\n5   1   0   0   0\n0   0   1   0   1\n2   1   1   0   0\n4   0   1   1   0\n6   1   0   1   0\n   S1  S2  S3  S4\n2   1   1   0   0\n5   1   0   0   0\n1   0   0   0   1\n4   0   1   1   0\n0   0   1   0   1\n3   0   0   1   0\n6   1   0   1   0\n   S1  S2  S3  S4\n2   1   1   0   0\n0   0   1   0   1\n5   1   0   0   0\n3   0   0   1   0\n1   0   0   0   1\n6   1   0   1   0\n4   0   1   1   0\n"
     ]
    }
   ],
   "source": [
    "# apply these hash functions to matrix2\n",
    "def apply_hash_to_matrix(matrix, hash_func):\n",
    "    mat = matrix.copy()\n",
    "\n",
    "    new_row_names = []\n",
    "    for num in matrix.index.tolist():\n",
    "\n",
    "        new_idx = int(hash_func(num)) # calculating index for num'th rows\n",
    "        mat.loc[num] = matrix.loc[new_idx] # assaigning new row\n",
    "\n",
    "        new_row_names.append(new_idx) # remember indexes\n",
    "    \n",
    "    mat.index = new_row_names\n",
    "\n",
    "    return mat\n",
    "\n",
    "print(\"--- ORIGINAL MATRIX ---\\n\")\n",
    "print(matrix2)\n",
    "\n",
    "print(\"\\n--- HASHED MATRICIES ---\\n\")\n",
    "for func in hash_functions.values():\n",
    "    print(apply_hash_to_matrix(matrix2, func))"
   ]
  },
  {
   "cell_type": "markdown",
   "metadata": {},
   "source": [
    "- b) Describe how to check if these hash functions are permutations."
   ]
  },
  {
   "source": [
    "The simplest answer - Pass every value to the function from range <0; 6> and check if values returned don’t repeat. If for every value from the range a function returns a different value it means that a function is a bijection so it’s a permutation."
   ],
   "cell_type": "markdown",
   "metadata": {}
  },
  {
   "cell_type": "markdown",
   "metadata": {},
   "source": [
    "- c) How close are the estimated Jaccard similarities for the six pairs of columns to the true Jaccard similarities?"
   ]
  },
  {
   "cell_type": "code",
   "execution_count": 1,
   "metadata": {},
   "outputs": [],
   "source": [
    "# reset hash functions to the original exercise \n",
    "h1 = lambda x: (2.0 * x + 1.0) % 7.0\n",
    "h2 = lambda x: (3.0 * x + 2.0) % 7.0\n",
    "h3 = lambda x: (5.0 * x + 2.0) % 7.0\n",
    "\n",
    "\n",
    "hash_functions = {'h1': h1, 'h2': h2, 'h3': h3}"
   ]
  },
  {
   "cell_type": "code",
   "execution_count": 132,
   "metadata": {},
   "outputs": [
    {
     "output_type": "stream",
     "name": "stdout",
     "text": [
      "Real similarity\t Estimated similarity\n",
      "0.2 \t\t 0.0\n",
      "0.2 \t\t 0.0\n",
      "0.0 \t\t 0.0\n",
      "0.2 \t\t 0.6666666666666666\n",
      "0.25 \t\t 0.3333333333333333\n",
      "0.0 \t\t 0.0\n",
      "ipykernel_launcher:7: FutureWarning: Method .as_matrix will be removed in a future version. Use .values instead.\n",
      "ipykernel_launcher:20: VisibleDeprecationWarning: Creating an ndarray from ragged nested sequences (which is a list-or-tuple of lists-or-tuples-or ndarrays with different lengths or shapes) is deprecated. If you meant to do this, you must specify 'dtype=object' when creating the ndarray\n"
     ]
    }
   ],
   "source": [
    "# hint: the following function from the built-in Python library itertools can come in handy here\n",
    "from itertools import combinations\n",
    "\n",
    "def get_sets(mat):\n",
    "    s = []\n",
    "\n",
    "    for row in mat.as_matrix().T:\n",
    "        s_temp = []\n",
    "        for num, el in enumerate(row):\n",
    "            if el == 1: \n",
    "                s_temp.append(num)\n",
    "\n",
    "        s.append(s_temp)\n",
    "\n",
    "    return s\n",
    "\n",
    "def calc_true_jacard(mat):\n",
    "\n",
    "    s = get_sets(mat)\n",
    "    s = np.array(s)\n",
    "\n",
    "    all_combinations = list(combinations(range(mat.shape[1]), 2))\n",
    "\n",
    "    result = []\n",
    "    for comb in all_combinations:\n",
    "        s1 = np.array(s[comb[0]])\n",
    "        s2 = np.array(s[comb[1]])\n",
    "        \n",
    "        in_common = s1[np.in1d(s1, s2)]\n",
    "        union = np.unique(np.concatenate((s1, s2)))\n",
    "\n",
    "        result.append((np.array(comb) + 1, len(in_common)/len(union)))\n",
    "\n",
    "    return result\n",
    "\n",
    "def calc_min_hash_signature(mat, hash_funcions):\n",
    "    \n",
    "    hash_signature = np.full((len(hash_funcions), mat.shape[1]), np.Inf)\n",
    "\n",
    "    mat_np = mat.to_numpy()\n",
    "\n",
    "    for idx, row in enumerate(mat_np):\n",
    "\n",
    "        h_values = [hash_funcions[0](idx), hash_funcions[1](idx), hash_funcions[2](idx)]\n",
    "        for num_hash in range(3):\n",
    "            for idx_2,val in enumerate(row):\n",
    "                if val > 0 and h_values[num_hash] < hash_signature[num_hash][idx_2]:\n",
    "                    hash_signature[num_hash][idx_2] = h_values[num_hash]\n",
    "\n",
    "    return hash_signature\n",
    "\n",
    "def calc_min_hash_similarities(mat):\n",
    "\n",
    "    all_combinations = list(combinations(range(mat.shape[1]), 2))\n",
    "\n",
    "    result = []\n",
    "    for comb in all_combinations:\n",
    "        s1 = np.array(mat.T[comb[0]])\n",
    "        s2 = np.array(mat.T[comb[1]])\n",
    "\n",
    "        similar = 0\n",
    "        all_items = len(s1)\n",
    "\n",
    "        for num in range(len(s1)):\n",
    "            if s1[num] == s2[num]:\n",
    "                similar += 1\n",
    "\n",
    "        result.append((np.array(comb) + 1, similar/all_items))\n",
    "\n",
    "    return result\n",
    "\n",
    "\n",
    "real_sims = calc_true_jacard(matrix2)\n",
    "\n",
    "min_hash_mat = calc_min_hash_signature(matrix2, [h1, h2, h3])\n",
    "estimated_sims = calc_min_hash_similarities(min_hash_mat)\n",
    "\n",
    "print(\"Real similarity\\t Estimated similarity\")\n",
    "for real_sim in real_sims:\n",
    "    for estimated_sim in estimated_sims:\n",
    "        # print(real_sim)\n",
    "        if (real_sim[0] == estimated_sim[0]).all():\n",
    "            print (real_sim[1], \"\\t\\t\", estimated_sim[1])"
   ]
  },
  {
   "cell_type": "markdown",
   "metadata": {},
   "source": [
    "- d) What is the benefit of using hash functions instead of permutations?"
   ]
  },
  {
   "source": [
    "There are two main benefits:\n",
    "- memory usage - instead of storing whole permutation in memory, we can calculate new position of the row by putting original index into hash function \n",
    "- computation time - for large number of rows calculating a permutation may be time-consuming. To get a new index from a hash function, old index just need to be putted into hash function "
   ],
   "cell_type": "markdown",
   "metadata": {}
  },
  {
   "cell_type": "markdown",
   "metadata": {},
   "source": [
    "# Exercise 4 - LSH"
   ]
  },
  {
   "cell_type": "code",
   "execution_count": 16,
   "metadata": {},
   "outputs": [
    {
     "data": {
      "text/html": [
       "<div>\n",
       "<style scoped>\n",
       "    .dataframe tbody tr th:only-of-type {\n",
       "        vertical-align: middle;\n",
       "    }\n",
       "\n",
       "    .dataframe tbody tr th {\n",
       "        vertical-align: top;\n",
       "    }\n",
       "\n",
       "    .dataframe thead th {\n",
       "        text-align: right;\n",
       "    }\n",
       "</style>\n",
       "<table border=\"1\" class=\"dataframe\">\n",
       "  <thead>\n",
       "    <tr style=\"text-align: right;\">\n",
       "      <th></th>\n",
       "      <th>C1</th>\n",
       "      <th>C2</th>\n",
       "      <th>C3</th>\n",
       "      <th>C4</th>\n",
       "      <th>C5</th>\n",
       "      <th>C6</th>\n",
       "      <th>C7</th>\n",
       "    </tr>\n",
       "  </thead>\n",
       "  <tbody>\n",
       "    <tr>\n",
       "      <th>0</th>\n",
       "      <td>1</td>\n",
       "      <td>2</td>\n",
       "      <td>1</td>\n",
       "      <td>1</td>\n",
       "      <td>2</td>\n",
       "      <td>5</td>\n",
       "      <td>4</td>\n",
       "    </tr>\n",
       "    <tr>\n",
       "      <th>1</th>\n",
       "      <td>2</td>\n",
       "      <td>3</td>\n",
       "      <td>4</td>\n",
       "      <td>2</td>\n",
       "      <td>3</td>\n",
       "      <td>2</td>\n",
       "      <td>2</td>\n",
       "    </tr>\n",
       "    <tr>\n",
       "      <th>2</th>\n",
       "      <td>3</td>\n",
       "      <td>1</td>\n",
       "      <td>2</td>\n",
       "      <td>3</td>\n",
       "      <td>1</td>\n",
       "      <td>3</td>\n",
       "      <td>2</td>\n",
       "    </tr>\n",
       "    <tr>\n",
       "      <th>3</th>\n",
       "      <td>4</td>\n",
       "      <td>1</td>\n",
       "      <td>3</td>\n",
       "      <td>1</td>\n",
       "      <td>2</td>\n",
       "      <td>4</td>\n",
       "      <td>4</td>\n",
       "    </tr>\n",
       "    <tr>\n",
       "      <th>4</th>\n",
       "      <td>5</td>\n",
       "      <td>2</td>\n",
       "      <td>5</td>\n",
       "      <td>1</td>\n",
       "      <td>1</td>\n",
       "      <td>5</td>\n",
       "      <td>1</td>\n",
       "    </tr>\n",
       "    <tr>\n",
       "      <th>5</th>\n",
       "      <td>6</td>\n",
       "      <td>1</td>\n",
       "      <td>6</td>\n",
       "      <td>4</td>\n",
       "      <td>1</td>\n",
       "      <td>1</td>\n",
       "      <td>4</td>\n",
       "    </tr>\n",
       "  </tbody>\n",
       "</table>\n",
       "</div>"
      ],
      "text/plain": [
       "   C1  C2  C3  C4  C5  C6  C7\n",
       "0   1   2   1   1   2   5   4\n",
       "1   2   3   4   2   3   2   2\n",
       "2   3   1   2   3   1   3   2\n",
       "3   4   1   3   1   2   4   4\n",
       "4   5   2   5   1   1   5   1\n",
       "5   6   1   6   4   1   1   4"
      ]
     },
     "execution_count": 16,
     "metadata": {},
     "output_type": "execute_result"
    }
   ],
   "source": [
    "SIG2 = pd.DataFrame([\n",
    "                [1, 2, 1, 1, 2, 5, 4],\n",
    "                [2, 3, 4, 2, 3, 2, 2],\n",
    "                [3, 1, 2, 3, 1, 3, 2],\n",
    "                [4, 1, 3, 1, 2, 4, 4],\n",
    "                [5, 2, 5, 1, 1, 5, 1],\n",
    "                [6, 1, 6, 4, 1, 1, 4]\n",
    "            ],\n",
    "            columns=[\"C1\", \"C2\", \"C3\", \"C4\", \"C5\", \"C6\", \"C7\"],\n",
    "            dtype='int64')\n",
    "SIG2"
   ]
  },
  {
   "cell_type": "code",
   "execution_count": null,
   "metadata": {},
   "outputs": [],
   "source": [
    "bands = 3\n",
    "rows_per_band = int(SIG2.shape[0] / bands) # this only works for multiples here\n",
    "print(\"bands\", bands, \"rows/band\", rows_per_band)"
   ]
  },
  {
   "cell_type": "code",
   "execution_count": null,
   "metadata": {},
   "outputs": [],
   "source": [
    "# hint: the following function from the built-in Python library itertools can come in handy here\n",
    "from itertools import combinations"
   ]
  },
  {
   "cell_type": "code",
   "execution_count": null,
   "metadata": {},
   "outputs": [],
   "source": []
  },
  {
   "cell_type": "markdown",
   "metadata": {},
   "source": [
    "# Exercise 5 - Locality-Sensitive Families\n",
    "**Definitions and assumptions**:\n",
    "\n",
    "Hash function family $H$: $(d_1,d_2,p_1,p_2)$-sensitive\n",
    "\n",
    "Probability of any hash function $h \\in H$ is $Pr[h(x)=h(y)] = 1-d(x,y)$ (d is distance function, e.g. Jaccard)\n",
    "\n",
    "*AND* construction of family $H$ -> $H'$:\n",
    "\n",
    "$h = [h_1, \\dots , h_r]$ in $H’$, $h(x)=h(y)$ if and only if $h_i(x)=h_i(y)$ for all $i$\n",
    "\n",
    "If H is $(d_1,d_2,p_1,p_2)$-sensitive, then H’ is $(d_1,d_2,(p_1)^r,(p_2)^r)$-sensitive. (\"**r**ows in a band\")\n",
    "\n",
    "*OR* construction of family $H$ -> $H'$:\n",
    "\n",
    "$h = [h_1, \\dots, h_b]$ in $H’$, $h(x)=h(y)$ if and only if $h_i(x)=h_i(y)$ for some $i$.\n",
    "\n",
    "If $H$ is $(d_1,d_2,p_1,p_2)$-sensitive, then $H’$ is $(d_1,d_2,1-(1-p_1)^b,1-(1-p_2)^b)$-sensitive.\n",
    "\n",
    "AND-OR composition: $r$-way AND construction followed by $b$-way OR construction - probability $1-(1-p^r)^b$ (S-curve)\n",
    "\n",
    "OR-AND composition: $b$-way OR construction followed by an $r$-way AND construction - probability $(1-(1-p)^b)^r$ (S-curve mirrored along both axes)\n",
    "\n",
    "[source](https://towardsdatascience.com/understanding-locality-sensitive-hashing-49f6d1f6134) "
   ]
  }
 ],
 "metadata": {
  "kernelspec": {
   "name": "python374jvsc74a57bd0b3ba2566441a7c06988d0923437866b63cedc61552a5af99d1f4fb67d367b25f",
   "display_name": "Python 3.7.4 64-bit ('base': conda)"
  },
  "language_info": {
   "codemirror_mode": {
    "name": "ipython",
    "version": 3
   },
   "file_extension": ".py",
   "mimetype": "text/x-python",
   "name": "python",
   "nbconvert_exporter": "python",
   "pygments_lexer": "ipython3",
   "version": "3.7.4"
  }
 },
 "nbformat": 4,
 "nbformat_minor": 2
}